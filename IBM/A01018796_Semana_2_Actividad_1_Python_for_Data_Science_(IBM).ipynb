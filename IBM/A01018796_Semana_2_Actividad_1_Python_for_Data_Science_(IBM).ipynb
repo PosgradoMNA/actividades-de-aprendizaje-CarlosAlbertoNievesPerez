{
  "nbformat": 4,
  "nbformat_minor": 0,
  "metadata": {
    "colab": {
      "provenance": [],
      "authorship_tag": "ABX9TyNK0ibpLXkNmXC9kacSKR0m",
      "include_colab_link": true
    },
    "kernelspec": {
      "name": "python3",
      "display_name": "Python 3"
    },
    "language_info": {
      "name": "python"
    }
  },
  "cells": [
    {
      "cell_type": "markdown",
      "metadata": {
        "id": "view-in-github",
        "colab_type": "text"
      },
      "source": [
        "<a href=\"https://colab.research.google.com/github/PosgradoMNA/actividades-de-aprendizaje-CarlosAlbertoNievesPerez/blob/main/A01018796_Semana_2_Actividad_1_Python_for_Data_Science_(IBM).ipynb\" target=\"_parent\"><img src=\"https://colab.research.google.com/assets/colab-badge.svg\" alt=\"Open In Colab\"/></a>"
      ]
    },
    {
      "cell_type": "code",
      "execution_count": null,
      "metadata": {
        "id": "XXB2ZG7RPylH"
      },
      "outputs": [],
      "source": []
    },
    {
      "cell_type": "markdown",
      "source": [
        "https://www.w3schools.com/python/default.asp"
      ],
      "metadata": {
        "id": "998FGxKarYrK"
      }
    },
    {
      "cell_type": "code",
      "source": [
        "READING FILES\n",
        "\n",
        "R FOR READING\n",
        "W FOR WRITING\n",
        "A FOR APPENDING\n",
        "\n",
        "ALWAYS CLOSE THE FILE. WITH STATEMEN AUTOMATICALLY CLOSES THE FILE"
      ],
      "metadata": {
        "id": "bK1cX7DGraZP"
      },
      "execution_count": null,
      "outputs": []
    },
    {
      "cell_type": "markdown",
      "source": [],
      "metadata": {
        "id": "0w-V0jtUsLf9"
      }
    }
  ]
}
