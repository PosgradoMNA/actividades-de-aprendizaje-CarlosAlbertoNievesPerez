{
  "nbformat": 4,
  "nbformat_minor": 0,
  "metadata": {
    "colab": {
      "provenance": [],
      "authorship_tag": "ABX9TyPs1FcqsS+eXJEFIukaakuA",
      "include_colab_link": true
    },
    "kernelspec": {
      "name": "python3",
      "display_name": "Python 3"
    },
    "language_info": {
      "name": "python"
    }
  },
  "cells": [
    {
      "cell_type": "markdown",
      "metadata": {
        "id": "view-in-github",
        "colab_type": "text"
      },
      "source": [
        "<a href=\"https://colab.research.google.com/github/PosgradoMNA/actividades-de-aprendizaje-CarlosAlbertoNievesPerez/blob/main/AVANCE_PROYECTO_FINAL.ipynb\" target=\"_parent\"><img src=\"https://colab.research.google.com/assets/colab-badge.svg\" alt=\"Open In Colab\"/></a>"
      ]
    },
    {
      "cell_type": "code",
      "execution_count": null,
      "metadata": {
        "id": "WWQsij33OlrP"
      },
      "outputs": [],
      "source": [
        "##ACTIVIDAD 1 PROYECTO FINAL"
      ]
    },
    {
      "cell_type": "markdown",
      "source": [
        "-El nombre que caracteriza el conjunto de datos.\n",
        "-La organización que lo generó.\n",
        "-Incluya un enlace de Internet donde se puedan descargar en línea y enviar como una hoja de cálculo junto con su informe correspondiente.\n",
        "-Describe el conjunto de datos. ¿Qué datos contiene?\n",
        "-¿Cuáles son algunas de las preguntas de investigación que podría responder con estos datos? Enumere al menos OCHO (no responda las preguntas).\n",
        "-¿Qué actor (empresa, sector de la sociedad, organismo descentralizado, gobierno, etc.) estaría interesado en las preguntas mencionadas que identificó?"
      ],
      "metadata": {
        "id": "j9rWOATeO2x1"
      }
    },
    {
      "cell_type": "markdown",
      "source": [
        "-El nombre que caracteriza el conjunto de datos:\"CO2 Emissions (metric tons per capita)\n",
        "-Organizacion que lo generó: \"THE WORLD BANK\"\n",
        "-Link: https://data.worldbank.org/indicator/EN.ATM.CO2E.PC?view=chart\n",
        "-Descripcion: esta base de datos creada por the world bank nos muestra un historico de las toneladas metricas emitidas per capita. \n",
        "-preguntas: \n",
        "    Que pais ha sido el que mas ha incrementado su emsion de co2 per capita.\n",
        "    Que pais ha sideo el que ha logrado reducir su emision de co2\n",
        "    En cuanto tiempo logro invertir su curva de emsiion de co2\n",
        "    Cuantos paises han logrado invertir su curva\n",
        "    Que pais ha logrado invertir su curva en el menor tiempo\n",
        "    Cual es el promedio de tiempo que le ha tomado a los paises reducir su emision per capita\n",
        "    Cual es el pais que mas rapido ha incrementado su emision per capita\n",
        "    Cual es el promedio de emision per capita. \n",
        "\n",
        "-que actor: WHO, gobiernos, o incluso ONG´s\n"
      ],
      "metadata": {
        "id": "H1EBbVMibSvF"
      }
    },
    {
      "cell_type": "markdown",
      "source": [],
      "metadata": {
        "id": "9tQG3ZGogpjZ"
      }
    }
  ]
}