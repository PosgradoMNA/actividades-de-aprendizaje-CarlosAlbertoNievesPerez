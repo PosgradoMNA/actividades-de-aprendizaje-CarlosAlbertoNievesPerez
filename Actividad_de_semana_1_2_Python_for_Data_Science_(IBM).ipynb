{
  "nbformat": 4,
  "nbformat_minor": 0,
  "metadata": {
    "colab": {
      "provenance": [],
      "authorship_tag": "ABX9TyMdUCqi2OwoTrpk9+GmHJzn",
      "include_colab_link": true
    },
    "kernelspec": {
      "name": "python3",
      "display_name": "Python 3"
    },
    "language_info": {
      "name": "python"
    }
  },
  "cells": [
    {
      "cell_type": "markdown",
      "metadata": {
        "id": "view-in-github",
        "colab_type": "text"
      },
      "source": [
        "<a href=\"https://colab.research.google.com/github/PosgradoMNA/actividades-de-aprendizaje-Carlosnipe/blob/main/Actividad_de_semana_1_2_Python_for_Data_Science_(IBM).ipynb\" target=\"_parent\"><img src=\"https://colab.research.google.com/assets/colab-badge.svg\" alt=\"Open In Colab\"/></a>"
      ]
    },
    {
      "cell_type": "code",
      "execution_count": null,
      "metadata": {
        "id": "ewKqGlaGYLDL"
      },
      "outputs": [],
      "source": []
    },
    {
      "cell_type": "markdown",
      "source": [
        "ESCRIBIR CODIGOS QUE NECESITASTE PARA REALIZAR LA ACTIVIDAD"
      ],
      "metadata": {
        "id": "rkUvl0R2YM6s"
      }
    },
    {
      "cell_type": "code",
      "source": [
        "print(\"Hello\\nWorld!\")\n",
        "# print('Hello World!')\n",
        "bool(1)"
      ],
      "metadata": {
        "id": "PtC_UKI5eZga",
        "outputId": "6ee6349d-d0e0-4911-f087-7a03bc0d2253",
        "colab": {
          "base_uri": "https://localhost:8080/"
        }
      },
      "execution_count": 10,
      "outputs": [
        {
          "output_type": "stream",
          "name": "stdout",
          "text": [
            "Hello\n",
            "World!\n"
          ]
        },
        {
          "output_type": "execute_result",
          "data": {
            "text/plain": [
              "True"
            ]
          },
          "metadata": {},
          "execution_count": 10
        }
      ]
    },
    {
      "cell_type": "code",
      "source": [
        "name=\"Carlos\"\n",
        "name[::2]\n"
      ],
      "metadata": {
        "id": "JbdQXG-YhZg4",
        "outputId": "41ea86dd-32e8-4e50-a90c-236f35a67a98",
        "colab": {
          "base_uri": "https://localhost:8080/",
          "height": 36
        }
      },
      "execution_count": 12,
      "outputs": [
        {
          "output_type": "execute_result",
          "data": {
            "text/plain": [
              "'Cro'"
            ],
            "application/vnd.google.colaboratory.intrinsic+json": {
              "type": "string"
            }
          },
          "metadata": {},
          "execution_count": 12
        }
      ]
    },
    {
      "cell_type": "code",
      "source": [
        "canp=name+\" Nieves\"\n",
        "print(canp)\n",
        "aanp=canp.replace(\"Carlos\",\"Alberto\")\n",
        "print(aanp)"
      ],
      "metadata": {
        "id": "MYIRbQUsiC8K",
        "outputId": "a382ed24-74fe-46ae-8e5d-4d5c0ae37f43",
        "colab": {
          "base_uri": "https://localhost:8080/"
        }
      },
      "execution_count": 17,
      "outputs": [
        {
          "output_type": "stream",
          "name": "stdout",
          "text": [
            "Carlos Nieves\n",
            "Alberto Nieves\n"
          ]
        }
      ]
    }
  ]
}