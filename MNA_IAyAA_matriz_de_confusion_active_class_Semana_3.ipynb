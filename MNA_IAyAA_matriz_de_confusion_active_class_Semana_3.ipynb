{
  "nbformat": 4,
  "nbformat_minor": 0,
  "metadata": {
    "colab": {
      "provenance": [],
      "collapsed_sections": [],
      "include_colab_link": true
    },
    "kernelspec": {
      "name": "python3",
      "display_name": "Python 3"
    },
    "language_info": {
      "name": "python"
    }
  },
  "cells": [
    {
      "cell_type": "markdown",
      "metadata": {
        "id": "view-in-github",
        "colab_type": "text"
      },
      "source": [
        "<a href=\"https://colab.research.google.com/github/PosgradoMNA/actividades-de-aprendizaje-CarlosAlbertoNievesPerez/blob/main/MNA_IAyAA_matriz_de_confusion_active_class_Semana_3.ipynb\" target=\"_parent\"><img src=\"https://colab.research.google.com/assets/colab-badge.svg\" alt=\"Open In Colab\"/></a>"
      ]
    },
    {
      "cell_type": "markdown",
      "source": [
        "##Inteligencia Artificial y Aprendizaje Automático\n",
        "###Maestría en Inteligencia Artificial Aplicada\n",
        "\n",
        "####Ejercicio en la active class de la semana 3."
      ],
      "metadata": {
        "id": "n7k_w4jOOJ3r"
      }
    },
    {
      "cell_type": "markdown",
      "metadata": {
        "id": "cLm3a-AKjmcY"
      },
      "source": [
        "Ejercicio basado en los datos llamados \"Pima Indians Diabetes\".\n",
        "\n",
        "\n",
        "https://www.kaggle.com/datasets/uciml/pima-indians-diabetes-database \n",
        "\n",
        "Algunos artículos que usaron esta base de datos en su investigación:\n",
        "\n",
        "https://archive.ics.uci.edu/ml/support/diabetes "
      ]
    },
    {
      "cell_type": "code",
      "metadata": {
        "id": "NuS5ut8tkpvv"
      },
      "source": [
        "import pandas as pd\n",
        "import numpy as np\n",
        "import matplotlib.pyplot as plt \n",
        "from collections import Counter \n",
        "\n",
        "from sklearn.model_selection import train_test_split\n",
        "from sklearn.metrics import confusion_matrix, recall_score, roc_auc_score\n",
        "\n",
        "from sklearn.linear_model import LogisticRegression"
      ],
      "execution_count": null,
      "outputs": []
    },
    {
      "cell_type": "code",
      "metadata": {
        "id": "CifqZcbdkdFg",
        "colab": {
          "base_uri": "https://localhost:8080/",
          "height": 143
        },
        "outputId": "7e07229f-1597-4e16-9929-60f9e94ed1e9"
      },
      "source": [
        "mypath = \"pima_indians_diabetes.csv\"\n",
        "\n",
        "data = pd.read_csv(mypath, sep=\",\", header='infer')\n",
        "data.head(3)"
      ],
      "execution_count": null,
      "outputs": [
        {
          "output_type": "execute_result",
          "data": {
            "text/plain": [
              "   Pregnancies  Glucose  BloodPressure  SkinThickness  Insulin   BMI  \\\n",
              "0            6      148             72             35        0  33.6   \n",
              "1            1       85             66             29        0  26.6   \n",
              "2            8      183             64              0        0  23.3   \n",
              "\n",
              "   DiabetesPedigreeFunction  Age  Outcome  \n",
              "0                     0.627   50        1  \n",
              "1                     0.351   31        0  \n",
              "2                     0.672   32        1  "
            ],
            "text/html": [
              "\n",
              "  <div id=\"df-55fd4824-65e2-4804-89ed-5254d19045f4\">\n",
              "    <div class=\"colab-df-container\">\n",
              "      <div>\n",
              "<style scoped>\n",
              "    .dataframe tbody tr th:only-of-type {\n",
              "        vertical-align: middle;\n",
              "    }\n",
              "\n",
              "    .dataframe tbody tr th {\n",
              "        vertical-align: top;\n",
              "    }\n",
              "\n",
              "    .dataframe thead th {\n",
              "        text-align: right;\n",
              "    }\n",
              "</style>\n",
              "<table border=\"1\" class=\"dataframe\">\n",
              "  <thead>\n",
              "    <tr style=\"text-align: right;\">\n",
              "      <th></th>\n",
              "      <th>Pregnancies</th>\n",
              "      <th>Glucose</th>\n",
              "      <th>BloodPressure</th>\n",
              "      <th>SkinThickness</th>\n",
              "      <th>Insulin</th>\n",
              "      <th>BMI</th>\n",
              "      <th>DiabetesPedigreeFunction</th>\n",
              "      <th>Age</th>\n",
              "      <th>Outcome</th>\n",
              "    </tr>\n",
              "  </thead>\n",
              "  <tbody>\n",
              "    <tr>\n",
              "      <th>0</th>\n",
              "      <td>6</td>\n",
              "      <td>148</td>\n",
              "      <td>72</td>\n",
              "      <td>35</td>\n",
              "      <td>0</td>\n",
              "      <td>33.6</td>\n",
              "      <td>0.627</td>\n",
              "      <td>50</td>\n",
              "      <td>1</td>\n",
              "    </tr>\n",
              "    <tr>\n",
              "      <th>1</th>\n",
              "      <td>1</td>\n",
              "      <td>85</td>\n",
              "      <td>66</td>\n",
              "      <td>29</td>\n",
              "      <td>0</td>\n",
              "      <td>26.6</td>\n",
              "      <td>0.351</td>\n",
              "      <td>31</td>\n",
              "      <td>0</td>\n",
              "    </tr>\n",
              "    <tr>\n",
              "      <th>2</th>\n",
              "      <td>8</td>\n",
              "      <td>183</td>\n",
              "      <td>64</td>\n",
              "      <td>0</td>\n",
              "      <td>0</td>\n",
              "      <td>23.3</td>\n",
              "      <td>0.672</td>\n",
              "      <td>32</td>\n",
              "      <td>1</td>\n",
              "    </tr>\n",
              "  </tbody>\n",
              "</table>\n",
              "</div>\n",
              "      <button class=\"colab-df-convert\" onclick=\"convertToInteractive('df-55fd4824-65e2-4804-89ed-5254d19045f4')\"\n",
              "              title=\"Convert this dataframe to an interactive table.\"\n",
              "              style=\"display:none;\">\n",
              "        \n",
              "  <svg xmlns=\"http://www.w3.org/2000/svg\" height=\"24px\"viewBox=\"0 0 24 24\"\n",
              "       width=\"24px\">\n",
              "    <path d=\"M0 0h24v24H0V0z\" fill=\"none\"/>\n",
              "    <path d=\"M18.56 5.44l.94 2.06.94-2.06 2.06-.94-2.06-.94-.94-2.06-.94 2.06-2.06.94zm-11 1L8.5 8.5l.94-2.06 2.06-.94-2.06-.94L8.5 2.5l-.94 2.06-2.06.94zm10 10l.94 2.06.94-2.06 2.06-.94-2.06-.94-.94-2.06-.94 2.06-2.06.94z\"/><path d=\"M17.41 7.96l-1.37-1.37c-.4-.4-.92-.59-1.43-.59-.52 0-1.04.2-1.43.59L10.3 9.45l-7.72 7.72c-.78.78-.78 2.05 0 2.83L4 21.41c.39.39.9.59 1.41.59.51 0 1.02-.2 1.41-.59l7.78-7.78 2.81-2.81c.8-.78.8-2.07 0-2.86zM5.41 20L4 18.59l7.72-7.72 1.47 1.35L5.41 20z\"/>\n",
              "  </svg>\n",
              "      </button>\n",
              "      \n",
              "  <style>\n",
              "    .colab-df-container {\n",
              "      display:flex;\n",
              "      flex-wrap:wrap;\n",
              "      gap: 12px;\n",
              "    }\n",
              "\n",
              "    .colab-df-convert {\n",
              "      background-color: #E8F0FE;\n",
              "      border: none;\n",
              "      border-radius: 50%;\n",
              "      cursor: pointer;\n",
              "      display: none;\n",
              "      fill: #1967D2;\n",
              "      height: 32px;\n",
              "      padding: 0 0 0 0;\n",
              "      width: 32px;\n",
              "    }\n",
              "\n",
              "    .colab-df-convert:hover {\n",
              "      background-color: #E2EBFA;\n",
              "      box-shadow: 0px 1px 2px rgba(60, 64, 67, 0.3), 0px 1px 3px 1px rgba(60, 64, 67, 0.15);\n",
              "      fill: #174EA6;\n",
              "    }\n",
              "\n",
              "    [theme=dark] .colab-df-convert {\n",
              "      background-color: #3B4455;\n",
              "      fill: #D2E3FC;\n",
              "    }\n",
              "\n",
              "    [theme=dark] .colab-df-convert:hover {\n",
              "      background-color: #434B5C;\n",
              "      box-shadow: 0px 1px 3px 1px rgba(0, 0, 0, 0.15);\n",
              "      filter: drop-shadow(0px 1px 2px rgba(0, 0, 0, 0.3));\n",
              "      fill: #FFFFFF;\n",
              "    }\n",
              "  </style>\n",
              "\n",
              "      <script>\n",
              "        const buttonEl =\n",
              "          document.querySelector('#df-55fd4824-65e2-4804-89ed-5254d19045f4 button.colab-df-convert');\n",
              "        buttonEl.style.display =\n",
              "          google.colab.kernel.accessAllowed ? 'block' : 'none';\n",
              "\n",
              "        async function convertToInteractive(key) {\n",
              "          const element = document.querySelector('#df-55fd4824-65e2-4804-89ed-5254d19045f4');\n",
              "          const dataTable =\n",
              "            await google.colab.kernel.invokeFunction('convertToInteractive',\n",
              "                                                     [key], {});\n",
              "          if (!dataTable) return;\n",
              "\n",
              "          const docLinkHtml = 'Like what you see? Visit the ' +\n",
              "            '<a target=\"_blank\" href=https://colab.research.google.com/notebooks/data_table.ipynb>data table notebook</a>'\n",
              "            + ' to learn more about interactive tables.';\n",
              "          element.innerHTML = '';\n",
              "          dataTable['output_type'] = 'display_data';\n",
              "          await google.colab.output.renderOutput(dataTable, element);\n",
              "          const docLink = document.createElement('div');\n",
              "          docLink.innerHTML = docLinkHtml;\n",
              "          element.appendChild(docLink);\n",
              "        }\n",
              "      </script>\n",
              "    </div>\n",
              "  </div>\n",
              "  "
            ]
          },
          "metadata": {},
          "execution_count": 31
        }
      ]
    },
    {
      "cell_type": "code",
      "metadata": {
        "id": "n_HsuLzWmYsI"
      },
      "source": [
        "X = data[['Pregnancies','Glucose','BloodPressure','SkinThickness','Insulin','BMI','DiabetesPedigreeFunction','Age']]\n",
        "Y = data[['Outcome']]"
      ],
      "execution_count": null,
      "outputs": []
    },
    {
      "cell_type": "code",
      "metadata": {
        "id": "NTYzRUhPnHeB",
        "colab": {
          "base_uri": "https://localhost:8080/"
        },
        "outputId": "92357357-dbad-42e9-d6e7-1f9e2bb41019"
      },
      "source": [
        "Counter(Y['Outcome'])"
      ],
      "execution_count": null,
      "outputs": [
        {
          "output_type": "execute_result",
          "data": {
            "text/plain": [
              "Counter({1: 268, 0: 500})"
            ]
          },
          "metadata": {},
          "execution_count": 33
        }
      ]
    },
    {
      "cell_type": "code",
      "source": [
        "268 / 768"
      ],
      "metadata": {
        "colab": {
          "base_uri": "https://localhost:8080/"
        },
        "id": "Xs0QRiq_5Cut",
        "outputId": "8e82c413-e8fe-4c4d-aed6-8bea7d25b797"
      },
      "execution_count": null,
      "outputs": [
        {
          "output_type": "execute_result",
          "data": {
            "text/plain": [
              "0.3489583333333333"
            ]
          },
          "metadata": {},
          "execution_count": 59
        }
      ]
    },
    {
      "cell_type": "code",
      "metadata": {
        "id": "HpSY9k8fmWcB",
        "colab": {
          "base_uri": "https://localhost:8080/"
        },
        "outputId": "7aac9b53-f01a-4a24-bb6b-458ff2754090"
      },
      "source": [
        "Xtv, Xtest, ytv, ytest = train_test_split(X, Y, test_size=0.2, random_state=0)\n",
        "Xtrain, Xval, ytrain, yval = train_test_split(X, Y, train_size=0.8, random_state=1)\n",
        "\n",
        "print(Xtrain.shape)\n",
        "print(Xval.shape)\n",
        "print(Xtest.shape)\n",
        "\n",
        "print(ytrain.shape)\n",
        "print(yval.shape)\n",
        "print(ytest.shape)"
      ],
      "execution_count": null,
      "outputs": [
        {
          "output_type": "stream",
          "name": "stdout",
          "text": [
            "(614, 8)\n",
            "(154, 8)\n",
            "(154, 8)\n",
            "(614, 1)\n",
            "(154, 1)\n",
            "(154, 1)\n"
          ]
        }
      ]
    },
    {
      "cell_type": "code",
      "metadata": {
        "id": "JayPaCltotuO",
        "colab": {
          "base_uri": "https://localhost:8080/"
        },
        "outputId": "2bf4911a-c017-4538-e590-d4e86a97794e"
      },
      "source": [
        "modelo_LR = LogisticRegression(max_iter=1000, \n",
        "                               penalty='l2',\n",
        "                               C=0.1,\n",
        "                               solver='lbfgs',\n",
        "                               random_state=10)\n",
        "\n",
        "modelo_LR.fit(Xtrain, np.ravel(ytrain))\n",
        "\n",
        "print('Entrenamiento-exactitud: %.4f' % modelo_LR.score(Xtrain, ytrain))\n",
        "\n",
        "print('Validación-exactitud: %.4f' % modelo_LR.score(Xval, yval))"
      ],
      "execution_count": null,
      "outputs": [
        {
          "output_type": "stream",
          "name": "stdout",
          "text": [
            "Entrenamiento-exactitud: 0.7736\n",
            "Validación-exactitud: 0.7727\n"
          ]
        }
      ]
    },
    {
      "cell_type": "code",
      "source": [
        "# predicciones con decimales-probabilístico:\n",
        "print(modelo_LR.predict_proba(Xval[10:14]))\n",
        "\n",
        "# predicciones binarias:\n",
        "print(modelo_LR.predict(Xval[10:14]))"
      ],
      "metadata": {
        "colab": {
          "base_uri": "https://localhost:8080/"
        },
        "id": "55MkD91hUDl0",
        "outputId": "9a7a441f-b0e2-446e-de77-ddba85e2cf27"
      },
      "execution_count": null,
      "outputs": [
        {
          "output_type": "stream",
          "name": "stdout",
          "text": [
            "[[0.53804979 0.46195021]\n",
            " [0.93609679 0.06390321]\n",
            " [0.02653975 0.97346025]\n",
            " [0.2531475  0.7468525 ]]\n",
            "[0 0 1 1]\n"
          ]
        }
      ]
    },
    {
      "cell_type": "code",
      "source": [
        "pred_bin = modelo_LR.predict(Xval)\n",
        "\n",
        "# ytest : etiquetas reales\n",
        "# pred_bin : predicciones del modelo\n",
        "\n",
        "cm = confusion_matrix(yval, pred_bin)    # los renglones son los reales y las columnas las predicciones,\n",
        "                                          # por la manera en que están acomodados como argumentos.\n",
        "print(cm)"
      ],
      "metadata": {
        "colab": {
          "base_uri": "https://localhost:8080/"
        },
        "id": "N_1tF1EwPH7i",
        "outputId": "27bf79e7-95db-4b72-f054-92a8011c7aed"
      },
      "execution_count": null,
      "outputs": [
        {
          "output_type": "stream",
          "name": "stdout",
          "text": [
            "[[89 10]\n",
            " [25 30]]\n"
          ]
        }
      ]
    },
    {
      "cell_type": "code",
      "source": [],
      "metadata": {
        "id": "hZa379yhZ6zj"
      },
      "execution_count": null,
      "outputs": []
    },
    {
      "cell_type": "code",
      "source": [],
      "metadata": {
        "id": "-MvzLiRqZ6u5"
      },
      "execution_count": null,
      "outputs": []
    },
    {
      "cell_type": "code",
      "metadata": {
        "id": "OMhrNPxT3zr5",
        "colab": {
          "base_uri": "https://localhost:8080/"
        },
        "outputId": "ed3a4900-86de-4fbd-f445-3887bbcdce0a"
      },
      "source": [
        "pred = modelo_LR.predict_proba(Xtest)    # predicciones en formato probabilístico.\n",
        "pred[0:5,:]  # la suma de los valores por renglón es 1. P.ej., un valor arriba de 0.5 es de la clase de esa coordenada\n",
        "             # por lo que con solo una columna podemos seguir trabajando ya que son complementarias. \n",
        "             # En particular seleccionaremos más adelante la segunda columna y trabajaremos con ella:"
      ],
      "execution_count": null,
      "outputs": [
        {
          "output_type": "execute_result",
          "data": {
            "text/plain": [
              "array([[0.06547928, 0.93452072],\n",
              "       [0.84994409, 0.15005591],\n",
              "       [0.90548323, 0.09451677],\n",
              "       [0.37836749, 0.62163251],\n",
              "       [0.89870386, 0.10129614]])"
            ]
          },
          "metadata": {},
          "execution_count": 38
        }
      ]
    },
    {
      "cell_type": "code",
      "metadata": {
        "id": "YP5DK-UssoQN",
        "colab": {
          "base_uri": "https://localhost:8080/"
        },
        "outputId": "54f353df-7398-4eab-fd33-9a7126967a2b"
      },
      "source": [
        "my0s = (yval['Outcome']==0)   # Se genera el vector Booleano, my0s, con TRUE para las entradas con 0s y FALSE para los 1s. Buscamos quedarnos solo con los negativos.\n",
        "my1s = (yval['Outcome']==1)   # De manera complementaria, ahora \"my1s\" es el vector Booleanco con TRUE para los 1s - FALSE para los 0s. Ahora buscamos solo los positivos.\n",
        "\n",
        "print(my0s.shape)\n",
        "print(sum(my0s))   # ambos suman el total de Validation set.\n",
        "print(sum(my1s))"
      ],
      "execution_count": null,
      "outputs": [
        {
          "output_type": "stream",
          "name": "stdout",
          "text": [
            "(154,)\n",
            "99\n",
            "55\n"
          ]
        }
      ]
    },
    {
      "cell_type": "markdown",
      "metadata": {
        "id": "N7T7Dqq75TgR"
      },
      "source": [
        "###**Observa que para el caso de la clase 0, aún cuando el vector de predicciones pred0s tiene las probabilidades cercanas al 1 en la primer coordenada (o coordenada 0), nosotros seleccionamos la segunda coordenada (o coordenada 1) porque es el complemento que tiene los valores cercanos al 0. Y estos valores cercanos al 0 son los que se estarán graficando en el scatter plot. Para el caso de la clase 1 la misma segunda coordenada nos da directamente su probabilidad.**"
      ]
    },
    {
      "cell_type": "code",
      "source": [
        "pred[0:5,:]  # todas las predicciones..."
      ],
      "metadata": {
        "colab": {
          "base_uri": "https://localhost:8080/"
        },
        "id": "S5V6j5yWJ4Oy",
        "outputId": "27cddf1e-194e-4934-b175-163ee28efa90"
      },
      "execution_count": null,
      "outputs": [
        {
          "output_type": "execute_result",
          "data": {
            "text/plain": [
              "array([[0.06547928, 0.93452072],\n",
              "       [0.84994409, 0.15005591],\n",
              "       [0.90548323, 0.09451677],\n",
              "       [0.37836749, 0.62163251],\n",
              "       [0.89870386, 0.10129614]])"
            ]
          },
          "metadata": {},
          "execution_count": 40
        }
      ]
    },
    {
      "cell_type": "code",
      "source": [
        "pred[my0s]    # solo las predicciones donde la primer coordenada es la que tiene etiqueta real 0.\n",
        "              # Es decir, si el modelo hubiera quedado entrenado al 100% de accuracy, todas las \n",
        "              # primeras coordenadas debieran tener un valor de probabilidad mayor a la segunda coordenada.\n",
        "              # Y así, las primeras coordenadas que veas menores a 0.5, serían errores de predicción,\n",
        "              # estrictamente son FP. "
      ],
      "metadata": {
        "colab": {
          "base_uri": "https://localhost:8080/"
        },
        "id": "KjqsUWOlHkHj",
        "outputId": "a7c9f348-adfa-4a90-93dd-1f825d6542d7"
      },
      "execution_count": null,
      "outputs": [
        {
          "output_type": "execute_result",
          "data": {
            "text/plain": [
              "array([[0.06547928, 0.93452072],\n",
              "       [0.84994409, 0.15005591],\n",
              "       [0.90548323, 0.09451677],\n",
              "       [0.37836749, 0.62163251],\n",
              "       [0.89870386, 0.10129614],\n",
              "       [0.96619293, 0.03380707],\n",
              "       [0.27017224, 0.72982776],\n",
              "       [0.219845  , 0.780155  ],\n",
              "       [0.72538886, 0.27461114],\n",
              "       [0.66938769, 0.33061231],\n",
              "       [0.4658509 , 0.5341491 ],\n",
              "       [0.05225204, 0.94774796],\n",
              "       [0.90422998, 0.09577002],\n",
              "       [0.97427164, 0.02572836],\n",
              "       [0.66378048, 0.33621952],\n",
              "       [0.76573038, 0.23426962],\n",
              "       [0.95271191, 0.04728809],\n",
              "       [0.67915887, 0.32084113],\n",
              "       [0.96159434, 0.03840566],\n",
              "       [0.89252246, 0.10747754],\n",
              "       [0.80243848, 0.19756152],\n",
              "       [0.92804121, 0.07195879],\n",
              "       [0.89101072, 0.10898928],\n",
              "       [0.50611722, 0.49388278],\n",
              "       [0.91388838, 0.08611162],\n",
              "       [0.69402657, 0.30597343],\n",
              "       [0.22194616, 0.77805384],\n",
              "       [0.75907213, 0.24092787],\n",
              "       [0.79334274, 0.20665726],\n",
              "       [0.84713073, 0.15286927],\n",
              "       [0.22204866, 0.77795134],\n",
              "       [0.99328328, 0.00671672],\n",
              "       [0.72510124, 0.27489876],\n",
              "       [0.51463983, 0.48536017],\n",
              "       [0.81315858, 0.18684142],\n",
              "       [0.53804979, 0.46195021],\n",
              "       [0.99787764, 0.00212236],\n",
              "       [0.40877057, 0.59122943],\n",
              "       [0.71795988, 0.28204012],\n",
              "       [0.89270413, 0.10729587],\n",
              "       [0.24953967, 0.75046033],\n",
              "       [0.49420602, 0.50579398],\n",
              "       [0.30558069, 0.69441931],\n",
              "       [0.09994506, 0.90005494],\n",
              "       [0.60800454, 0.39199546],\n",
              "       [0.51881119, 0.48118881],\n",
              "       [0.91862473, 0.08137527],\n",
              "       [0.06869548, 0.93130452],\n",
              "       [0.4092431 , 0.5907569 ],\n",
              "       [0.93821898, 0.06178102],\n",
              "       [0.63830426, 0.36169574],\n",
              "       [0.81192665, 0.18807335],\n",
              "       [0.77473005, 0.22526995],\n",
              "       [0.61001781, 0.38998219],\n",
              "       [0.1216644 , 0.8783356 ],\n",
              "       [0.82933363, 0.17066637],\n",
              "       [0.84526405, 0.15473595],\n",
              "       [0.80928346, 0.19071654],\n",
              "       [0.77696479, 0.22303521],\n",
              "       [0.96359305, 0.03640695],\n",
              "       [0.82410562, 0.17589438],\n",
              "       [0.64502723, 0.35497277],\n",
              "       [0.47866455, 0.52133545],\n",
              "       [0.76597851, 0.23402149],\n",
              "       [0.74460606, 0.25539394],\n",
              "       [0.91676489, 0.08323511],\n",
              "       [0.9653107 , 0.0346893 ],\n",
              "       [0.48765065, 0.51234935],\n",
              "       [0.67577385, 0.32422615],\n",
              "       [0.70942462, 0.29057538],\n",
              "       [0.20612206, 0.79387794],\n",
              "       [0.66892118, 0.33107882],\n",
              "       [0.31021295, 0.68978705],\n",
              "       [0.75823446, 0.24176554],\n",
              "       [0.32701443, 0.67298557],\n",
              "       [0.90002039, 0.09997961],\n",
              "       [0.89989717, 0.10010283],\n",
              "       [0.6618025 , 0.3381975 ],\n",
              "       [0.53642261, 0.46357739],\n",
              "       [0.773405  , 0.226595  ],\n",
              "       [0.95045232, 0.04954768],\n",
              "       [0.68493006, 0.31506994],\n",
              "       [0.61069342, 0.38930658],\n",
              "       [0.57996071, 0.42003929],\n",
              "       [0.94846574, 0.05153426],\n",
              "       [0.24251745, 0.75748255],\n",
              "       [0.75158724, 0.24841276],\n",
              "       [0.66930787, 0.33069213],\n",
              "       [0.86666692, 0.13333308],\n",
              "       [0.62460714, 0.37539286],\n",
              "       [0.79710243, 0.20289757],\n",
              "       [0.45426047, 0.54573953],\n",
              "       [0.9228536 , 0.0771464 ],\n",
              "       [0.93100816, 0.06899184],\n",
              "       [0.92303459, 0.07696541],\n",
              "       [0.85834955, 0.14165045],\n",
              "       [0.92243472, 0.07756528],\n",
              "       [0.87993255, 0.12006745],\n",
              "       [0.8703667 , 0.1296333 ]])"
            ]
          },
          "metadata": {},
          "execution_count": 41
        }
      ]
    },
    {
      "cell_type": "code",
      "source": [
        "pred.shape    #  tamaño (154,2) con las probabilidades compelemtarias por renglón."
      ],
      "metadata": {
        "colab": {
          "base_uri": "https://localhost:8080/"
        },
        "id": "GXBMLEekfQol",
        "outputId": "93c04ed8-c103-444e-f968-871e737dfef4"
      },
      "execution_count": null,
      "outputs": [
        {
          "output_type": "execute_result",
          "data": {
            "text/plain": [
              "(154, 2)"
            ]
          },
          "metadata": {},
          "execution_count": 42
        }
      ]
    },
    {
      "cell_type": "code",
      "metadata": {
        "id": "9xTDiTH81NMi",
        "colab": {
          "base_uri": "https://localhost:8080/"
        },
        "outputId": "cf4d20c1-64e7-4e86-c28a-afdec1fb478d"
      },
      "source": [
        "# Así, al seleccionar solo la segunda columna, queda automáticamente que cuando dicho valor es menor a 0.5, la podemos\n",
        "# asociar ahora a la clase negativa y cuando sea mayor al 0.5 será de la clase positiva\n",
        "\n",
        "pred0s  = pred[my0s][:,1]    # seleccionamos las probabilidades de nuestro modelo solo para los casos de etiquetas de 0s reales.\n",
        "                             # Es decir, en teoría todos estos debieran ser probabilidades de predicción menores a 0.5.\n",
        "\n",
        "pred1s  = pred[my1s][:,1]    # seleccionamos las probabilidades de nuestro modelo solo para los casos de etiquetas de 1s reales.\n",
        "                             # Es decir, en teoría todos estos debieran ser predicciones de valores mayores a 0.5.\n",
        "\n",
        "print(pred0s.shape)   \n",
        "print(pred1s.shape)"
      ],
      "execution_count": null,
      "outputs": [
        {
          "output_type": "stream",
          "name": "stdout",
          "text": [
            "(99,)\n",
            "(55,)\n"
          ]
        }
      ]
    },
    {
      "cell_type": "code",
      "source": [],
      "metadata": {
        "id": "16a2xpu3bhxf"
      },
      "execution_count": null,
      "outputs": []
    },
    {
      "cell_type": "markdown",
      "source": [
        "###**Generemos una gráfica para visualizar mejor esta relación:**"
      ],
      "metadata": {
        "id": "zJnvoMLYMgRe"
      }
    },
    {
      "cell_type": "code",
      "metadata": {
        "id": "ojDzCgcdt0C9",
        "colab": {
          "base_uri": "https://localhost:8080/"
        },
        "outputId": "0b0829c8-31e0-444a-cc62-dae0ea576594"
      },
      "source": [
        "r0 = np.random.uniform(-0.3,0.3, size=pred0s.shape[0])    # Generamos aleatorios uniforme para el eje x\n",
        "                                                          # de longitud el total de 0-TRUEs en Xtest, entre\n",
        "                                                          # algún intervalo deseado, que aquí usamos (-0.3, +0.3)\n",
        "\n",
        "r1 = np.random.uniform(0.7,1.3, size=pred1s.shape[0])     # El análogo para 1-TRUEs de Xtest. Pero para que aparezcan\n",
        "                                                          # cercanos uno al otro, seleccionemos ahora el intervalo (+0.7, +1.3)\n",
        "\n",
        "print(r0.shape)\n",
        "#print(r0[0:5])\n",
        "print(r1.shape)\n",
        "#print(r1[0:5])"
      ],
      "execution_count": null,
      "outputs": [
        {
          "output_type": "stream",
          "name": "stdout",
          "text": [
            "(99,)\n",
            "(55,)\n"
          ]
        }
      ]
    },
    {
      "cell_type": "code",
      "metadata": {
        "id": "_c7_18xuzUjS",
        "colab": {
          "base_uri": "https://localhost:8080/",
          "height": 265
        },
        "outputId": "cdb978c0-5901-4769-c3fb-3d45df32563b"
      },
      "source": [
        "# En el gráfico los puntos azules son las predicciones de todos los registros negativos reales.\n",
        "# Es decir, para un modelo perfecto, todos los puntos azules deberían haber quedado abajo de 0.5.\n",
        "\n",
        "# La columna de los puntos anaranjados son todas las predicciones de los registros positivos reales.\n",
        "# Es decir, en teoría todos estos puntos debieron haber quedado arriba del 0.5.\n",
        "\n",
        "plt.scatter(x=r0, y=pred0s)   # En teoría todos estos debieran ser menores a 0.5.\n",
        "plt.scatter(x=r1, y=pred1s)   # Y todos estos debieran ser mayores a 0.5.\n",
        "\n",
        "plt.hlines(0.5, -0.35, 1.35, color='g', linestyles='dashed')   # el primer valor es la constante para \"y\" y los otros 2 son \n",
        "                                                               # donde inicia y termina en el eje horizontal.\n",
        "plt.show()"
      ],
      "execution_count": null,
      "outputs": [
        {
          "output_type": "display_data",
          "data": {
            "text/plain": [
              "<Figure size 432x288 with 1 Axes>"
            ],
            "image/png": "[encoded data removed]"
          },
          "metadata": {
            "needs_background": "light"
          }
        }
      ]
    },
    {
      "cell_type": "code",
      "metadata": {
        "id": "xAOgEvCL9Ix3",
        "colab": {
          "base_uri": "https://localhost:8080/"
        },
        "outputId": "375ccf81-781c-4e35-f19e-86d1ee5601ca"
      },
      "source": [
        "# Cuando hacemos nuestras predicciones y obtenemos por ejemplo la matriz de confusión,\n",
        "# de manera predeterminada se está considerando que 0.5 es el umbral para las clases negativa y positiva.\n",
        "\n",
        "pred_bin = modelo_LR.predict(Xval)\n",
        "cm = confusion_matrix(yval, pred_bin)    # los renglones son los reales y las columnas las predicciones.\n",
        "print(cm)\n",
        "\n",
        "tt = np.sum(cm)\n",
        "print('real-0: [%.3f, %.3f]' % (cm[0,0]/tt, cm[0,1]/tt))\n",
        "print('real-1: [%.3f, %.3f]' % (cm[1,0]/tt, cm[1,1]/tt))"
      ],
      "execution_count": null,
      "outputs": [
        {
          "output_type": "stream",
          "name": "stdout",
          "text": [
            "[[89 10]\n",
            " [25 30]]\n",
            "real-0: [0.578, 0.065]\n",
            "real-1: [0.162, 0.195]\n"
          ]
        }
      ]
    },
    {
      "cell_type": "code",
      "metadata": {
        "id": "Yt-7FtfVv16K",
        "colab": {
          "base_uri": "https://localhost:8080/"
        },
        "outputId": "6f95cdec-9dbb-4363-f9b4-13c9b23b4cb3"
      },
      "source": [
        "TPrate = cm[1,1]/(cm[1,0]+cm[1,1])\n",
        "FPrate = cm[0,1]/(cm[0,0]+cm[0,1])\n",
        "print('TP_rate-recall:%.5f' % TPrate)\n",
        "print('FP_rate:%.5f' % FPrate)"
      ],
      "execution_count": null,
      "outputs": [
        {
          "output_type": "stream",
          "name": "stdout",
          "text": [
            "TP_rate-recall:0.54545\n",
            "FP_rate:0.10101\n"
          ]
        }
      ]
    },
    {
      "cell_type": "code",
      "source": [],
      "metadata": {
        "id": "60ezRCxbWr8Z"
      },
      "execution_count": null,
      "outputs": []
    },
    {
      "cell_type": "markdown",
      "metadata": {
        "id": "PlyIuyVM1z7Z"
      },
      "source": [
        "###**Ajustando para un mejor umbral (threshold)**"
      ]
    },
    {
      "cell_type": "code",
      "metadata": {
        "id": "wM5oOPIOGOUU"
      },
      "source": [
        "# regresa los TP para un umbral deseado:\n",
        "\n",
        "def fun_thTPrate(th, modelo, x, y):   \n",
        "  p = modelo.predict_proba(x)   # shape (231x2)\n",
        "  my1s = (y['Outcome']==1) \n",
        "  pred1s  = p[my1s][:,1]\n",
        "  return sum(pred1s > th) / sum(my1s)"
      ],
      "execution_count": null,
      "outputs": []
    },
    {
      "cell_type": "code",
      "metadata": {
        "id": "6JGXrSk9Gaps",
        "colab": {
          "base_uri": "https://localhost:8080/"
        },
        "outputId": "7996eeb5-d01f-4929-adee-9731efd1375b"
      },
      "source": [
        "fun_thTPrate(0.5, modelo_LR, Xval, yval)  # validando nuestra función con th=0.5"
      ],
      "execution_count": null,
      "outputs": [
        {
          "output_type": "execute_result",
          "data": {
            "text/plain": [
              "0.5454545454545454"
            ]
          },
          "metadata": {},
          "execution_count": 49
        }
      ]
    },
    {
      "cell_type": "code",
      "metadata": {
        "id": "qkWxEYBKCchl"
      },
      "source": [
        "# Análogo ahora con los FP:\n",
        "\n",
        "def fun_thFPrate(th, modelo, x, y):   \n",
        "  p = modelo.predict_proba(x)\n",
        "  my0s = (y['Outcome']==0) \n",
        "  pred0s  = p[my0s][:,1]\n",
        "  return sum(pred0s>th) / sum(my0s)"
      ],
      "execution_count": null,
      "outputs": []
    },
    {
      "cell_type": "code",
      "metadata": {
        "id": "wZU0p7I-Fhwc",
        "colab": {
          "base_uri": "https://localhost:8080/"
        },
        "outputId": "ecd1d9a7-9ebe-4b3b-f560-80355f1e0647"
      },
      "source": [
        "fun_thFPrate(0.5, modelo_LR, Xval, yval)   # validando nuestra función con th=0.5"
      ],
      "execution_count": null,
      "outputs": [
        {
          "output_type": "execute_result",
          "data": {
            "text/plain": [
              "0.10101010101010101"
            ]
          },
          "metadata": {},
          "execution_count": 51
        }
      ]
    },
    {
      "cell_type": "code",
      "metadata": {
        "id": "X-rb8hzW6sa5",
        "colab": {
          "base_uri": "https://localhost:8080/",
          "height": 265
        },
        "outputId": "88cfb424-b375-4f41-9d46-2db9724ea38b"
      },
      "source": [
        "new_th = 0.3 # búsqueda del mejor umbral\n",
        "\n",
        "plt.scatter(x=r0, y=pred0s)\n",
        "plt.scatter(x=r1, y=pred1s)\n",
        "\n",
        "plt.hlines(0.5, -0.35,1.35,color='g',linestyles='dashed')\n",
        "plt.hlines(new_th, -0.35,1.35,color='r',linestyles='dashed')\n",
        "plt.show()"
      ],
      "execution_count": null,
      "outputs": [
        {
          "output_type": "display_data",
          "data": {
            "text/plain": [
              "<Figure size 432x288 with 1 Axes>"
            ],
            "image/png": "[encoded data removed]"
          },
          "metadata": {
            "needs_background": "light"
          }
        }
      ]
    },
    {
      "cell_type": "code",
      "source": [
        "# Obtengamos también los FN con un umbral dado, solo para comparar con FP:\n",
        "\n",
        "def fun_thFNrate(th, modelo, x, y):   \n",
        "  p = modelo.predict_proba(x)\n",
        "  my1s = (y['Outcome']==1) \n",
        "  pred1s  = p[my1s][:,1]\n",
        "  return sum(pred1s<th) / sum(my1s)"
      ],
      "metadata": {
        "id": "yokETW0XbcLe"
      },
      "execution_count": null,
      "outputs": []
    },
    {
      "cell_type": "code",
      "source": [
        "fFP = fun_thFPrate(new_th, modelo_LR, Xval, yval)\n",
        "fFN = fun_thFNrate(new_th, modelo_LR, Xval, yval)\n",
        "\n",
        "print(fFP)\n",
        "print(fFN)\n",
        "print('FP+FN = %.2f' % (fFP+fFN))"
      ],
      "metadata": {
        "colab": {
          "base_uri": "https://localhost:8080/"
        },
        "id": "uf2gqI53cRtw",
        "outputId": "d3296d7d-5507-432c-a233-2ba796982818"
      },
      "execution_count": null,
      "outputs": [
        {
          "output_type": "stream",
          "name": "stdout",
          "text": [
            "0.24242424242424243\n",
            "0.2\n",
            "FP+FN = 0.44\n"
          ]
        }
      ]
    },
    {
      "cell_type": "code",
      "source": [
        "fFP = fun_thFPrate(0.5, modelo_LR, Xval, yval)\n",
        "fFN = fun_thFNrate(0.5, modelo_LR, Xval, yval)\n",
        "\n",
        "print(fFP)\n",
        "print(fFN)\n",
        "print('FP+FN = %.2f' % (fFP+fFN))"
      ],
      "metadata": {
        "colab": {
          "base_uri": "https://localhost:8080/"
        },
        "id": "HThpqks-cXLm",
        "outputId": "39ed3d75-57d7-4701-bca4-1c1949557a8c"
      },
      "execution_count": null,
      "outputs": [
        {
          "output_type": "stream",
          "name": "stdout",
          "text": [
            "0.10101010101010101\n",
            "0.45454545454545453\n",
            "FP+FN = 0.56\n"
          ]
        }
      ]
    },
    {
      "cell_type": "code",
      "source": [
        "# Busquemos cuál podría ser el umbral que minimice el total de las razones FP y FN:\n",
        "\n",
        "tt = [t for t in np.arange(0.1,0.9,.1)]\n",
        "\n",
        "for i in tt:\n",
        "  fFP = fun_thFPrate(i, modelo_LR, Xval, yval)\n",
        "  fFN = fun_thFNrate(i, modelo_LR, Xval, yval)\n",
        "\n",
        "  print('(th, FPr+FNr) = (%.1f, %.2f)' % (i, fFP+fFN))"
      ],
      "metadata": {
        "colab": {
          "base_uri": "https://localhost:8080/"
        },
        "id": "CrMwhcpUeLUN",
        "outputId": "0483289f-2458-46da-c83c-5f85abea2da1"
      },
      "execution_count": null,
      "outputs": [
        {
          "output_type": "stream",
          "name": "stdout",
          "text": [
            "(th, FPr+FNr) = (0.1, 0.77)\n",
            "(th, FPr+FNr) = (0.2, 0.58)\n",
            "(th, FPr+FNr) = (0.3, 0.44)\n",
            "(th, FPr+FNr) = (0.4, 0.55)\n",
            "(th, FPr+FNr) = (0.5, 0.56)\n",
            "(th, FPr+FNr) = (0.6, 0.55)\n",
            "(th, FPr+FNr) = (0.7, 0.65)\n",
            "(th, FPr+FNr) = (0.8, 0.80)\n"
          ]
        }
      ]
    },
    {
      "cell_type": "markdown",
      "source": [
        "###**Predicciones y Matriz de Confusión con el mejor Umbral (threshold) en el conjunto de Prueba:**"
      ],
      "metadata": {
        "id": "jVlF2-XqltPf"
      }
    },
    {
      "cell_type": "code",
      "source": [
        "pred_pr = modelo_LR.predict_proba(Xtest)  # obtenemos primero las predicciones en formato probabilístico de 0 a 1. Este es vector 2D.\n",
        "pred_pr = pred_pr[:,1]    # como comentamos, es suficiente quedarnos con las probabilidades de la segunda coordenada. Este ya es vector 1D.\n",
        "\n",
        "# Y realizamos nuestras predicciones a la clase 0 y a la clase 1 con base al mejor umbral new_th encontrado:\n",
        "pred_bin_newTh = pred_pr > new_th\n",
        "pred_bin_05 = modelo_LR.predict(Xtest)\n",
        "\n",
        "print('Casos donde FP y FN los consideramos igualmente costosos:\\n')\n",
        "print('Predicciones con el umbral predeterminado 0.5:')\n",
        "cm05 = confusion_matrix(ytest, pred_bin_05)    # los renglones son los reales y las columnas las predicciones.\n",
        "print(cm05)\n",
        "\n",
        "print('\\nPredicciones con un mejor umbral de %.2f:' % new_th)\n",
        "cmTh = confusion_matrix(ytest, pred_bin_newTh)    \n",
        "print(cmTh)"
      ],
      "metadata": {
        "colab": {
          "base_uri": "https://localhost:8080/"
        },
        "id": "QdBkzqcVeb00",
        "outputId": "606685c1-8b72-4ec7-8611-e39619a0e4c8"
      },
      "execution_count": null,
      "outputs": [
        {
          "output_type": "stream",
          "name": "stdout",
          "text": [
            "Casos donde FP y FN los consideramos igualmente costosos:\n",
            "\n",
            "Predicciones con el umbral predeterminado 0.5:\n",
            "[[97 10]\n",
            " [19 28]]\n",
            "\n",
            "Predicciones con un mejor umbral de 0.30:\n",
            "[[77 30]\n",
            " [ 7 40]]\n"
          ]
        }
      ]
    },
    {
      "cell_type": "code",
      "source": [
        "modelo_LR.score(Xtest, ytest)"
      ],
      "metadata": {
        "colab": {
          "base_uri": "https://localhost:8080/"
        },
        "id": "lJFKwVTtex4e",
        "outputId": "3d18ce3a-f15e-4128-9c7d-a28634c99fcc"
      },
      "execution_count": null,
      "outputs": [
        {
          "output_type": "execute_result",
          "data": {
            "text/plain": [
              "0.8116883116883117"
            ]
          },
          "metadata": {},
          "execution_count": 58
        }
      ]
    }
  ]
}