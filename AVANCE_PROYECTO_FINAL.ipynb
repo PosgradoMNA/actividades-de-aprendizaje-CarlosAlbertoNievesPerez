{
  "nbformat": 4,
  "nbformat_minor": 0,
  "metadata": {
    "colab": {
      "provenance": [],
      "authorship_tag": "ABX9TyP5ZHSHy8+BzIFKvDgzbT4S",
      "include_colab_link": true
    },
    "kernelspec": {
      "name": "python3",
      "display_name": "Python 3"
    },
    "language_info": {
      "name": "python"
    }
  },
  "cells": [
    {
      "cell_type": "markdown",
      "metadata": {
        "id": "view-in-github",
        "colab_type": "text"
      },
      "source": [
        "<a href=\"https://colab.research.google.com/github/PosgradoMNA/actividades-de-aprendizaje-Carlosnipe/blob/main/AVANCE_PROYECTO_FINAL.ipynb\" target=\"_parent\"><img src=\"https://colab.research.google.com/assets/colab-badge.svg\" alt=\"Open In Colab\"/></a>"
      ]
    },
    {
      "cell_type": "code",
      "execution_count": null,
      "metadata": {
        "id": "WWQsij33OlrP"
      },
      "outputs": [],
      "source": [
        "##ACTIVIDAD 1 PROYECTO FINAL"
      ]
    },
    {
      "cell_type": "markdown",
      "source": [
        "-El nombre que caracteriza el conjunto de datos.\n",
        "-La organización que lo generó.\n",
        "-Incluya un enlace de Internet donde se puedan descargar en línea y enviar como una hoja de cálculo junto con su informe correspondiente.\n",
        "-Describe el conjunto de datos. ¿Qué datos contiene?\n",
        "-¿Cuáles son algunas de las preguntas de investigación que podría responder con estos datos? Enumere al menos OCHO (no responda las preguntas).\n",
        "-¿Qué actor (empresa, sector de la sociedad, organismo descentralizado, gobierno, etc.) estaría interesado en las preguntas mencionadas que identificó?"
      ],
      "metadata": {
        "id": "j9rWOATeO2x1"
      }
    }
  ]
}