{
  "nbformat": 4,
  "nbformat_minor": 0,
  "metadata": {
    "colab": {
      "provenance": [],
      "authorship_tag": "ABX9TyO1nuEZPVYGR9QYGY/oOesK",
      "include_colab_link": true
    },
    "kernelspec": {
      "name": "python3",
      "display_name": "Python 3"
    },
    "language_info": {
      "name": "python"
    }
  },
  "cells": [
    {
      "cell_type": "markdown",
      "metadata": {
        "id": "view-in-github",
        "colab_type": "text"
      },
      "source": [
        "<a href=\"https://colab.research.google.com/github/PosgradoMNA/actividades-de-aprendizaje-CarlosAlbertoNievesPerez/blob/main/Actividad_de_semana_1_2_Python_for_Data_Science_(IBM).ipynb\" target=\"_parent\"><img src=\"https://colab.research.google.com/assets/colab-badge.svg\" alt=\"Open In Colab\"/></a>"
      ]
    },
    {
      "cell_type": "markdown",
      "source": [
        "ESCRIBIR CODIGOS QUE NECESITASTE PARA REALIZAR LA ACTIVIDAD"
      ],
      "metadata": {
        "id": "rkUvl0R2YM6s"
      }
    },
    {
      "cell_type": "markdown",
      "source": [
        "CARLOS ALBERRO NIEVES PEREZ A01018796"
      ],
      "metadata": {
        "id": "hc0ty21JNxGm"
      }
    },
    {
      "cell_type": "markdown",
      "source": [
        "MODULO 1 2 3"
      ],
      "metadata": {
        "id": "HK_jllZSxP41"
      }
    },
    {
      "cell_type": "markdown",
      "source": [
        "![progress.png](data:image/png;base64,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)"
      ],
      "metadata": {
        "id": "MSfLbj3Bw2hO"
      }
    },
    {
      "cell_type": "code",
      "source": [
        "print(\"Hello\\nWorld!\")\n",
        "# print('Hello World!')\n",
        "bool(1)"
      ],
      "metadata": {
        "colab": {
          "base_uri": "https://localhost:8080/"
        },
        "id": "PtC_UKI5eZga",
        "outputId": "6ee6349d-d0e0-4911-f087-7a03bc0d2253"
      },
      "execution_count": null,
      "outputs": [
        {
          "output_type": "stream",
          "name": "stdout",
          "text": [
            "Hello\n",
            "World!\n"
          ]
        },
        {
          "output_type": "execute_result",
          "data": {
            "text/plain": [
              "True"
            ]
          },
          "metadata": {},
          "execution_count": 10
        }
      ]
    },
    {
      "cell_type": "code",
      "source": [
        "name=\"Carlos\"\n",
        "name[::2]\n"
      ],
      "metadata": {
        "colab": {
          "base_uri": "https://localhost:8080/",
          "height": 36
        },
        "id": "JbdQXG-YhZg4",
        "outputId": "41ea86dd-32e8-4e50-a90c-236f35a67a98"
      },
      "execution_count": null,
      "outputs": [
        {
          "output_type": "execute_result",
          "data": {
            "text/plain": [
              "'Cro'"
            ],
            "application/vnd.google.colaboratory.intrinsic+json": {
              "type": "string"
            }
          },
          "metadata": {},
          "execution_count": 12
        }
      ]
    },
    {
      "cell_type": "code",
      "source": [
        "canp=name+\" Nieves\"\n",
        "print(canp)\n",
        "aanp=canp.replace(\"Carlos\",\"Alberto\")\n",
        "print(aanp)"
      ],
      "metadata": {
        "colab": {
          "base_uri": "https://localhost:8080/"
        },
        "id": "MYIRbQUsiC8K",
        "outputId": "a382ed24-74fe-46ae-8e5d-4d5c0ae37f43"
      },
      "execution_count": null,
      "outputs": [
        {
          "output_type": "stream",
          "name": "stdout",
          "text": [
            "Carlos Nieves\n",
            "Alberto Nieves\n"
          ]
        }
      ]
    },
    {
      "cell_type": "code",
      "source": [
        "Numbers=\"0123456\"\n",
        "Numbers[::2]"
      ],
      "metadata": {
        "colab": {
          "base_uri": "https://localhost:8080/",
          "height": 36
        },
        "id": "2ryhzR0QizZu",
        "outputId": "8f213fb8-611e-4c1f-be52-42a685dcb5b1"
      },
      "execution_count": null,
      "outputs": [
        {
          "output_type": "execute_result",
          "data": {
            "text/plain": [
              "'0246'"
            ],
            "application/vnd.google.colaboratory.intrinsic+json": {
              "type": "string"
            }
          },
          "metadata": {},
          "execution_count": 21
        }
      ]
    },
    {
      "cell_type": "code",
      "source": [
        "naame=\"Lizz\"\n",
        "print(naame[0:2])\n",
        "\"1\" + \"2\"\n"
      ],
      "metadata": {
        "colab": {
          "base_uri": "https://localhost:8080/",
          "height": 53
        },
        "id": "cpCdyIdfjhXG",
        "outputId": "82600c95-31d4-4c82-8aee-dd4d815b0af3"
      },
      "execution_count": null,
      "outputs": [
        {
          "output_type": "stream",
          "name": "stdout",
          "text": [
            "Li\n"
          ]
        },
        {
          "output_type": "execute_result",
          "data": {
            "text/plain": [
              "'12'"
            ],
            "application/vnd.google.colaboratory.intrinsic+json": {
              "type": "string"
            }
          },
          "metadata": {},
          "execution_count": 23
        }
      ]
    },
    {
      "cell_type": "code",
      "source": [
        "A=(0,1,2,3)\n",
        "A[3]\n",
        "A[-1]"
      ],
      "metadata": {
        "id": "e6DIlgt2BPW3",
        "outputId": "2a4ababd-9832-4d18-8cf4-c11219804544",
        "colab": {
          "base_uri": "https://localhost:8080/"
        }
      },
      "execution_count": null,
      "outputs": [
        {
          "output_type": "execute_result",
          "data": {
            "text/plain": [
              "3"
            ]
          },
          "metadata": {},
          "execution_count": 4
        }
      ]
    },
    {
      "cell_type": "code",
      "source": [
        "B=[\"a\",\"b\",\"c\"]\n",
        "B[1:]"
      ],
      "metadata": {
        "id": "861pDL79BlUv",
        "outputId": "de43cc19-f3d7-4ae2-84b9-92d12ffbf316",
        "colab": {
          "base_uri": "https://localhost:8080/"
        }
      },
      "execution_count": null,
      "outputs": [
        {
          "output_type": "execute_result",
          "data": {
            "text/plain": [
              "['b', 'c']"
            ]
          },
          "metadata": {},
          "execution_count": 5
        }
      ]
    },
    {
      "cell_type": "code",
      "source": [
        "Dict={\"A\":1,\"B\":\"2\",\"C\":[3,3,3],\"D\":(4,4,4),'E':5,'F':6}\n",
        "Dict[\"D\"]"
      ],
      "metadata": {
        "id": "-9OnNGfRN3wp",
        "outputId": "ce5638b5-b3c9-47ae-ba27-7e900df85a04",
        "colab": {
          "base_uri": "https://localhost:8080/"
        }
      },
      "execution_count": null,
      "outputs": [
        {
          "output_type": "execute_result",
          "data": {
            "text/plain": [
              "(4, 4, 4)"
            ]
          },
          "metadata": {},
          "execution_count": 6
        }
      ]
    },
    {
      "cell_type": "code",
      "source": [
        "B.append(['C','E'])\n",
        "print(B)"
      ],
      "metadata": {
        "id": "MjTbpzopOAax",
        "outputId": "d05cb1d1-412d-4636-e614-44ab23b73d2b",
        "colab": {
          "base_uri": "https://localhost:8080/"
        }
      },
      "execution_count": null,
      "outputs": [
        {
          "output_type": "stream",
          "name": "stdout",
          "text": [
            "['a', 'b', 'c', ['C', 'E'], ['C', 'E']]\n"
          ]
        }
      ]
    },
    {
      "cell_type": "markdown",
      "source": [
        "MODULE 3 - PYTHON PROGRAMMING FUNDAMENTALS"
      ],
      "metadata": {
        "id": "nV1fzoofpA1p"
      }
    },
    {
      "cell_type": "code",
      "source": [
        "i=0\n",
        "i!=0"
      ],
      "metadata": {
        "id": "n7jYVTeSpGQe"
      },
      "execution_count": null,
      "outputs": []
    },
    {
      "cell_type": "markdown",
      "source": [
        "      LOOOPS"
      ],
      "metadata": {
        "id": "JaE6XR768AUJ"
      }
    },
    {
      "cell_type": "code",
      "source": [
        "# For loop example\n",
        "\n",
        "dates = [1982,1980,1973]\n",
        "N = len(dates)\n",
        "\n",
        "for i in range(N):\n",
        "    print(dates[i])     "
      ],
      "metadata": {
        "colab": {
          "base_uri": "https://localhost:8080/"
        },
        "id": "9Rz3l4St5dEM",
        "outputId": "3c005321-db2c-470b-f601-e1111bc3f50b"
      },
      "execution_count": null,
      "outputs": [
        {
          "output_type": "stream",
          "name": "stdout",
          "text": [
            "1982\n",
            "1980\n",
            "1973\n"
          ]
        }
      ]
    },
    {
      "cell_type": "code",
      "source": [
        "# Example of for loop\n",
        "\n",
        "for i in range(0, 8):\n",
        "    print(i)"
      ],
      "metadata": {
        "colab": {
          "base_uri": "https://localhost:8080/"
        },
        "id": "89OoaL5c61Zi",
        "outputId": "ddad8f18-5dc5-428a-b75f-29eedb844a0c"
      },
      "execution_count": null,
      "outputs": [
        {
          "output_type": "stream",
          "name": "stdout",
          "text": [
            "0\n",
            "1\n",
            "2\n",
            "3\n",
            "4\n",
            "5\n",
            "6\n",
            "7\n"
          ]
        }
      ]
    },
    {
      "cell_type": "code",
      "source": [
        "# Use for loop to change the elements in list\n",
        "\n",
        "squares = ['red', 'yellow', 'green', 'purple', 'blue']\n",
        "\n",
        "for i in range(0, 5):\n",
        "    print(\"Before square \", i, 'is',  squares[i])\n",
        "    squares[i] = 'white'\n",
        "    print(\"After square \", i, 'is',  squares[i])"
      ],
      "metadata": {
        "colab": {
          "base_uri": "https://localhost:8080/"
        },
        "id": "cL1HzlJM7BW3",
        "outputId": "e924baf4-0be8-4441-9020-22231f79f1d2"
      },
      "execution_count": null,
      "outputs": [
        {
          "output_type": "stream",
          "name": "stdout",
          "text": [
            "Before square  0 is red\n",
            "After square  0 is white\n",
            "Before square  1 is yellow\n",
            "After square  1 is white\n",
            "Before square  2 is green\n",
            "After square  2 is white\n",
            "Before square  3 is purple\n",
            "After square  3 is white\n",
            "Before square  4 is blue\n",
            "After square  4 is white\n"
          ]
        }
      ]
    },
    {
      "cell_type": "code",
      "source": [
        "# While Loop Example\n",
        "\n",
        "dates = [1982, 1980, 1973, 2000]\n",
        "\n",
        "i = 0\n",
        "year = dates[0]\n",
        "\n",
        "while(year != 1973):    \n",
        "    print(year)\n",
        "    i = i + 1\n",
        "    year = dates[i]\n",
        "    \n",
        "\n",
        "print(\"It took \", i ,\"repetitions to get out of loop.\")"
      ],
      "metadata": {
        "colab": {
          "base_uri": "https://localhost:8080/"
        },
        "id": "WnisUwcW7bD4",
        "outputId": "b879b5d1-8321-4027-f876-84fd8885cb92"
      },
      "execution_count": null,
      "outputs": [
        {
          "output_type": "stream",
          "name": "stdout",
          "text": [
            "1982\n",
            "1980\n",
            "It took  2 repetitions to get out of loop.\n"
          ]
        }
      ]
    },
    {
      "cell_type": "markdown",
      "source": [
        "      FUNCTIONS"
      ],
      "metadata": {
        "id": "uGJUXksR8sCG"
      }
    },
    {
      "cell_type": "code",
      "source": [
        "# First function example: Add 1 to a and store as b\n",
        "\n",
        "def add(a):\n",
        "    \"\"\"\n",
        "    add 1 to a\n",
        "    \"\"\"\n",
        "    b = a + 1\n",
        "    print(a, \"if you add one\", b)\n",
        "    return(b)\n",
        "\n",
        "    # Get a help on add function\n",
        "\n",
        "help(add)"
      ],
      "metadata": {
        "id": "xN4j7rym8u31"
      },
      "execution_count": null,
      "outputs": []
    },
    {
      "cell_type": "code",
      "source": [
        "# Define a function for multiple two numbers\n",
        "\n",
        "def Mult(a, b):\n",
        "    c = a * b\n",
        "    return(c)\n",
        "    print('This is not printed')\n",
        "    \n",
        "result = Mult(12,2)\n",
        "print(result)"
      ],
      "metadata": {
        "id": "MbUToVOENX6z"
      },
      "execution_count": null,
      "outputs": []
    },
    {
      "cell_type": "code",
      "source": [
        "# Example of global variable\n",
        "\n",
        "artist = \"Michael Jackson\"\n",
        "def printer1(artist):\n",
        "    internal_var1 = artist\n",
        "    print(artist, \"is an artist\")\n",
        "    \n",
        "printer1(artist)\n",
        "# try runningthe following code\n",
        "#printer1(internal_var1) "
      ],
      "metadata": {
        "id": "ZkyZnZXtNnRj"
      },
      "execution_count": null,
      "outputs": []
    },
    {
      "cell_type": "code",
      "source": [
        "# Example of global variable\n",
        "\n",
        "myFavouriteBand = \"AC/DC\"\n",
        "\n",
        "def getBandRating(bandname):\n",
        "    if bandname == myFavouriteBand:\n",
        "        return 10.0\n",
        "    else:\n",
        "        return 0.0\n",
        "\n",
        "print(\"AC/DC's rating is:\", getBandRating(\"AC/DC\"))\n",
        "print(\"Deep Purple's rating is:\",getBandRating(\"Deep Purple\"))\n",
        "print(\"My favourite band is:\", myFavouriteBand)"
      ],
      "metadata": {
        "id": "_VV7OpSeNtAK"
      },
      "execution_count": null,
      "outputs": []
    }
  ]
}
