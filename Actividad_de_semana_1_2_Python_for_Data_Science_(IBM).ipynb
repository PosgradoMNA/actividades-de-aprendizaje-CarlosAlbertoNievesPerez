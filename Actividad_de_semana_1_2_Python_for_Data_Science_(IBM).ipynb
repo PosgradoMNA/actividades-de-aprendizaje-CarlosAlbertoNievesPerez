{
  "nbformat": 4,
  "nbformat_minor": 0,
  "metadata": {
    "colab": {
      "provenance": [],
      "authorship_tag": "ABX9TyPj+ykdyMd42NbY88qEVzLm",
      "include_colab_link": true
    },
    "kernelspec": {
      "name": "python3",
      "display_name": "Python 3"
    },
    "language_info": {
      "name": "python"
    }
  },
  "cells": [
    {
      "cell_type": "markdown",
      "metadata": {
        "id": "view-in-github",
        "colab_type": "text"
      },
      "source": [
        "<a href=\"https://colab.research.google.com/github/PosgradoMNA/actividades-de-aprendizaje-Carlosnipe/blob/main/Actividad_de_semana_1_2_Python_for_Data_Science_(IBM).ipynb\" target=\"_parent\"><img src=\"https://colab.research.google.com/assets/colab-badge.svg\" alt=\"Open In Colab\"/></a>"
      ]
    },
    {
      "cell_type": "code",
      "execution_count": null,
      "metadata": {
        "id": "ewKqGlaGYLDL"
      },
      "outputs": [],
      "source": []
    },
    {
      "cell_type": "markdown",
      "source": [
        "ESCRIBIR CODIGOS QUE NECESITASTE PARA REALIZAR LA ACTIVIDAD"
      ],
      "metadata": {
        "id": "rkUvl0R2YM6s"
      }
    }
  ]
}